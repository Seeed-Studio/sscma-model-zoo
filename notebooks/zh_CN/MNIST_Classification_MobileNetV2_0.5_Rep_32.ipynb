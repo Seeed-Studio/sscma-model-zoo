{
 "cells": [
  {
   "cell_type": "markdown",
   "metadata": {},
   "source": [
    "<div align=\"center\">\n",
    "  <h1>欢迎来到 ModelAssitant 的 Notebook 示例培训 🔥</h1>\n",
    "  <a href=\"https://sensecraftma.seeed.cc/\" target=\"_blank\"><img width=\"20%\" src=\"https://files.seeedstudio.com/sscma/docs/images/SSCMA-Hero.png\"></a>\n",
    "</div>"
   ]
  },
  {
   "cell_type": "markdown",
   "metadata": {},
   "source": [
    "# MNIST Classification - MobileNetV2 0.5 Rep\n",
    "\n",
    "[![Open in Colab](https://colab.research.google.com/assets/colab-badge.svg)](https://colab.research.google.com/github/seeed-studio/sscma-model-zoo/blob/main/notebooks/en/MNIST_Classification_MobileNetV2_0.5_Rep_32.ipynb)\n",
    "\n",
    "**版本:** 1.0.0\n",
    "\n",
    "**任务:** Image Classification\n",
    "\n",
    "**算法:** [MobileNetV2 0.5 Rep](configs/classification/mobnetv2_0.35_rep_1bx16_300e_mnist.py)\n",
    "\n",
    "**数据集:** [MNIST](http://yann.lecun.com/exdb/mnist/)\n",
    "\n",
    "**类别:** `0`, `1`, `2`, `3`, `4`, `5`, `6`, `7`, `8`, `9`\n",
    "\n",
    "![MNIST Classification](https://files.seeedstudio.com/sscma/static/mnist_cls.png)\n",
    "\n",
    "The model is a vision model designed for MNIST dataset\n",
    "\n"
   ]
  },
  {
   "cell_type": "markdown",
   "metadata": {},
   "source": [
    "{{model_info}}"
   ]
  },
  {
   "cell_type": "markdown",
   "metadata": {},
   "source": [
    "## ⚙️准备工作\n",
    "克隆 [仓库](https://github.com/Seeed-Studio/ModelAssistant) 并安装依赖项。\n",
    "### 配置SSCMA"
   ]
  },
  {
   "cell_type": "code",
   "execution_count": null,
   "metadata": {},
   "outputs": [],
   "source": [
    "# Ethos-U-Vela 需要通过以下命令安装\n",
    "!git clone https://review.mlplatform.org/ml/ethos-u/ethos-u-vela.git\n",
    "%cd ethos-u-vela\n",
    "!pip install .\n",
    "%cd ..\n",
    "!git clone https://github.com/Seeed-Studio/ModelAssistant.git -b 2.0.0  #克隆仓库\n",
    "%cd ModelAssistant\n",
    "!. ./scripts/setup_colab.sh"
   ]
  },
  {
   "cell_type": "markdown",
   "metadata": {},
   "source": [
    "%mkdir -p MNIST_Classification_MobileNetV2_0.5_Rep_32 \n",
    "!wget -c https://files.seeedstudio.com/sscma/model_zoo/classification/mnist/mobilenetv2_0.35_mnist_float32_sha1_41b743d3bceb50b5b677c7688567a87612e8435a.pth -O MNIST_Classification_MobileNetV2_0.5_Rep_32/pretrain.pth"
   ]
  },
  {
   "cell_type": "code",
   "execution_count": null,
   "metadata": {},
   "outputs": [],
   "source": [
    "{{download_pretrained_model}}"
   ]
  },
  {
   "cell_type": "markdown",
   "metadata": {},
   "source": [
    "%mkdir -p MNIST_Classification_MobileNetV2_0.5_Rep_32/dataset \n",
    "# Auto Fetch By ModelAssistant"
   ]
  },
  {
   "cell_type": "code",
   "execution_count": null,
   "metadata": {},
   "outputs": [],
   "source": [
    "{{download_dataset}}"
   ]
  },
  {
   "cell_type": "markdown",
   "metadata": {},
   "source": [
    "!sscma.train configs/classification/mobnetv2_0.35_rep_1bx16_300e_mnist.py \\\n",
    "--cfg-options  \\\n",
    "    work_dir=MNIST_Classification_MobileNetV2_0.5_Rep_32 \\\n",
    "    num_classes=10 \\\n",
    "    epochs=10  \\\n",
    "    height=32 \\\n",
    "    width=32 \\\n",
    "    load_from=MNIST_Classification_MobileNetV2_0.5_Rep_32/pretrain.pth"
   ]
  },
  {
   "cell_type": "code",
   "execution_count": null,
   "metadata": {},
   "outputs": [],
   "source": [
    "{{train_model}}"
   ]
  },
  {
   "cell_type": "markdown",
   "metadata": {},
   "source": [
    "import os\n",
    "with open('MNIST_Classification_MobileNetV2_0.5_Rep_32/last_checkpoint', 'r') as f:\n",
    "\tos.environ['CHECKPOINT_FILE_PATH'] = f.read()"
   ]
  },
  {
   "cell_type": "code",
   "execution_count": null,
   "metadata": {},
   "outputs": [],
   "source": [
    "!sscma.export configs/classification/mobnetv2_0.35_rep_1bx16_300e_mnist.py $CHECKPOINT_FILE_PATH --cfg-options  \\\n",
    "    work_dir=MNIST_Classification_MobileNetV2_0.5_Rep_32 \\\n",
    "    num_classes=10 \\\n",
    "    epochs=10  \\\n",
    "    height=32 \\\n",
    "    width=32 \\\n",
    "    load_from=MNIST_Classification_MobileNetV2_0.5_Rep_32/pretrain.pth"
   ]
  },
  {
   "cell_type": "code",
   "execution_count": null,
   "metadata": {},
   "outputs": [],
   "source": [
    "{{export_model}}"
   ]
  },
  {
   "cell_type": "markdown",
   "metadata": {},
   "source": [
    "## 📝评估模型\n",
    "导出模型后，您可以使用 `inference.py` 脚本评估模型的性能。\n",
    "\n",
    "```bash\n",
    "python3 tools/inference.py \\\n",
    "    \"<CONFIG_FILE_PATH>\" \\\n",
    "    \"<CHECKPOINT_FILE_PATH>\" \n",
    "```"
   ]
  },
  {
   "cell_type": "markdown",
   "metadata": {},
   "source": [
    "!sscma.inference configs/classification/mobnetv2_0.35_rep_1bx16_300e_mnist.py ${CHECKPOINT_FILE_PATH%.*}.pth \\\n",
    "--cfg-options  \\\n",
    "    work_dir=MNIST_Classification_MobileNetV2_0.5_Rep_32 \\\n",
    "    num_classes=10 \\\n",
    "    epochs=10  \\\n",
    "    height=32 \\\n",
    "    width=32 \\\n",
    "    load_from=MNIST_Classification_MobileNetV2_0.5_Rep_32/pretrain.pth"
   ]
  },
  {
   "cell_type": "code",
   "execution_count": null,
   "metadata": {},
   "outputs": [],
   "source": [
    "{{eval_model_pth}}"
   ]
  },
  {
   "cell_type": "markdown",
   "metadata": {},
   "source": [
    "!sscma.inference configs/classification/mobnetv2_0.35_rep_1bx16_300e_mnist.py ${CHECKPOINT_FILE_PATH%.*}_float32.onnx \\\n",
    "--cfg-options  \\\n",
    "    work_dir=MNIST_Classification_MobileNetV2_0.5_Rep_32 \\\n",
    "    num_classes=10 \\\n",
    "    epochs=10  \\\n",
    "    height=32 \\\n",
    "    width=32 \\\n",
    "    load_from=MNIST_Classification_MobileNetV2_0.5_Rep_32/pretrain.pth"
   ]
  },
  {
   "cell_type": "code",
   "execution_count": null,
   "metadata": {},
   "outputs": [],
   "source": [
    "{{eval_model_tflite_flot32}}"
   ]
  },
  {
   "cell_type": "markdown",
   "metadata": {},
   "source": [
    "!sscma.inference configs/classification/mobnetv2_0.35_rep_1bx16_300e_mnist.py ${CHECKPOINT_FILE_PATH%.*}_float32.tflite \\\n",
    "--cfg-options  \\\n",
    "    work_dir=MNIST_Classification_MobileNetV2_0.5_Rep_32 \\\n",
    "    num_classes=10 \\\n",
    "    epochs=10  \\\n",
    "    height=32 \\\n",
    "    width=32 \\\n",
    "    load_from=MNIST_Classification_MobileNetV2_0.5_Rep_32/pretrain.pth"
   ]
  },
  {
   "cell_type": "code",
   "execution_count": null,
   "metadata": {},
   "outputs": [],
   "source": [
    "!sscma.inference config.py last_float32.tflte"
   ]
  },
  {
   "cell_type": "markdown",
   "metadata": {},
   "source": [
    "!sscma.inference configs/classification/mobnetv2_0.35_rep_1bx16_300e_mnist.py ${CHECKPOINT_FILE_PATH%.*}_int8.tflite \\\n",
    "--cfg-options  \\\n",
    "    work_dir=MNIST_Classification_MobileNetV2_0.5_Rep_32 \\\n",
    "    num_classes=10 \\\n",
    "    epochs=10  \\\n",
    "    height=32 \\\n",
    "    width=32 \\\n",
    "    load_from=MNIST_Classification_MobileNetV2_0.5_Rep_32/pretrain.pth"
   ]
  },
  {
   "cell_type": "code",
   "execution_count": null,
   "metadata": {},
   "outputs": [],
   "source": [
    "{{eval_model_tflite_int8}}"
   ]
  },
  {
   "cell_type": "markdown",
   "metadata": {},
   "source": [
    "%ls -lh MNIST_Classification_MobileNetV2_0.5_Rep_32/"
   ]
  },
  {
   "cell_type": "code",
   "execution_count": null,
   "metadata": {},
   "outputs": [],
   "source": [
    "{{show_result}}"
   ]
  },
  {
   "cell_type": "markdown",
   "metadata": {},
   "source": [
    "## 感谢您尝试 SSCMA 🎉\n",
    "\n",
    "恭喜您完成本教程。如果您对更多应用场景或我们的项目感兴趣，请在 GitHub 上给 [ModelAssistant](https://github.com/Seeed-Studio/ModelAssistant) 加个星 ✨。\n",
    "\n",
    "如果您对本教程有任何问题，请随时[提交问题](https://github.com/Seeed-Studio/ModelAssistant/issues)。"
   ]
  }
 ],
 "metadata": {
  "kernelspec": {
   "display_name": "edgelab",
   "language": "python",
   "name": "python3"
  },
  "language_info": {
   "codemirror_mode": {
    "name": "ipython",
    "version": 3
   },
   "file_extension": ".py",
   "mimetype": "text/x-python",
   "name": "python",
   "nbconvert_exporter": "python",
   "pygments_lexer": "ipython3",
   "version": "3.10.12"
  }
 },
 "nbformat": 4,
 "nbformat_minor": 2
}
