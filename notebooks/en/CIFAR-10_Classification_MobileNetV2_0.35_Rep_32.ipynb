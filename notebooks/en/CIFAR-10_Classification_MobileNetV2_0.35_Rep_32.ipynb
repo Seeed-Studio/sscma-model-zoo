{
 "cells": [
  {
   "cell_type": "markdown",
   "metadata": {},
   "source": [
    "<div align=\"center\">\n",
    "  <h1>Welcom to SSCMA for Google Colab Training Example 🔥 </h1>\n",
    "  <a href=\"https://sensecraftma.seeed.cc/\" target=\"_blank\"><img width=\"20%\" src=\"https://files.seeedstudio.com/sscma/docs/images/SSCMA-Hero.png\"></a>\n",
    "</div>"
   ]
  },
  {
   "cell_type": "markdown",
   "metadata": {},
   "source": [
    "# CIFAR-10 Classification - MobileNetV2 0.35 Rep\n",
    "\n",
    "[![Open in Colab](https://colab.research.google.com/assets/colab-badge.svg)](https://colab.research.google.com/github/seeed-studio/sscma-model-zoo/blob/main/notebooks/en/CIFAR-10_Classification_MobileNetV2_0.35_Rep_32.ipynb)\n",
    "\n",
    "**Version:** 1.0.0\n",
    "\n",
    "**Category:** Image Classification\n",
    "\n",
    "**Algorithm:** [MobileNetV2 0.35 Rep](configs/classification/mobnetv2_0.35_rep_1bx16_300e_cifar10.py)\n",
    "\n",
    "**Dataset:** [CIFAR-10](https://www.cs.toronto.edu/~kriz/cifar.html)\n",
    "\n",
    "**Class:** `Airplane`, `Automobile`, `Bird`, `Cat`, `Deer`, `Dog`, `Frog`, `Horse`, `Ship`, `Truck`\n",
    "\n",
    "![CIFAR-10 Classification](https://files.seeedstudio.com/sscma/static/cifar10_cls_0_35.png)\n",
    "\n",
    "The model is a vision model designed for CIFAR-10 classification. It utilizes the [SSCMA](https://github.com/Seeed-Studio/ModelAssistant) training and employs the MobileNetV2 (0.35) Rep algorithm.\n",
    "\n"
   ]
  },
  {
   "cell_type": "markdown",
   "metadata": {},
   "source": [
    "## ⚙️Prerequisites\n",
    "### Setup SSCMA\n",
    "Clone the [repository](https://github.com/Seeed-Studio/ModelAssistant) and install the dependencies."
   ]
  },
  {
   "cell_type": "code",
   "execution_count": null,
   "metadata": {},
   "outputs": [],
   "source": [
    "# Switch to python3.10\n",
    "!update-alternatives --set python3 /usr/bin/python3.10\n",
    "# Ethos-U-Vela need to be installed this way, or SSCMA does not work anymore...\n",
    "!git clone https://review.mlplatform.org/ml/ethos-u/ethos-u-vela.git\n",
    "%cd ethos-u-vela\n",
    "!pip install .\n",
    "%cd ..\n",
    "\n",
    "!git clone https://github.com/Seeed-Studio/ModelAssistant.git -b 2.0.0  #clone the repo\n",
    "%cd ModelAssistant\n",
    "!. ./scripts/setup_colab.sh"
   ]
  },
  {
   "cell_type": "markdown",
   "metadata": {},
   "source": [
    "### Download the pretrain model weights file"
   ]
  },
  {
   "cell_type": "code",
   "execution_count": null,
   "metadata": {},
   "outputs": [],
   "source": [
    "%mkdir -p CIFAR-10_Classification_MobileNetV2_0.35_Rep_32 \n",
    "!wget -c https://files.seeedstudio.com/sscma/model_zoo/classification/cifar10/mobilenetv2_0.35_cifar10_float32_sha1_229a650d3d6352349bbe09f27120b0ffaea03154.pth -O CIFAR-10_Classification_MobileNetV2_0.35_Rep_32/pretrain.pth"
   ]
  },
  {
   "cell_type": "markdown",
   "metadata": {},
   "source": [
    "### Download the dataset"
   ]
  },
  {
   "cell_type": "code",
   "execution_count": null,
   "metadata": {},
   "outputs": [],
   "source": [
    "%mkdir -p CIFAR-10_Classification_MobileNetV2_0.35_Rep_32/dataset \n",
    "# Auto Fetch By ModelAssistant"
   ]
  },
  {
   "cell_type": "markdown",
   "metadata": {},
   "source": [
    "## 🚀Train a model with SSCMA\n",
    "All the training parameters are in the `config.py` file, you can change the parameters to train your own model.\n",
    "\n",
    "Below are explanations of some common parameters. You can also refer to the [documentation](https://sensecraftma.seeed.cc/tutorials/config) for more details.\n",
    "- `data_root` - the datasets path. \n",
    "- `epochs`- the train epochs. **we use 10 epochs as an example**.\n",
    "- `batch_size` - the batch size. \n",
    "- `height` - the image height.\n",
    "- `width` - the image width.\n",
    "- `load_from` - the pretrained model path.\n",
    "- `num_classes` - the number of classes.\n",
    "\n",
    "You can overwrite the parameters in the `config.py` file by using the `--cfg-options` argument. \n",
    "```bash\n",
    "# Example\n",
    "sscma.train config.py --cfg-options data_root=./datasets/test_dataset epochs=10\n",
    "```"
   ]
  },
  {
   "cell_type": "code",
   "execution_count": null,
   "metadata": {},
   "outputs": [],
   "source": [
    "!sscma.train configs/classification/mobnetv2_0.35_rep_1bx16_300e_cifar10.py \\\n",
    "--cfg-options  \\\n",
    "    work_dir=CIFAR-10_Classification_MobileNetV2_0.35_Rep_32 \\\n",
    "    num_classes=10 \\\n",
    "    epochs=10  \\\n",
    "    height=32 \\\n",
    "    width=32 \\\n",
    "    load_from=CIFAR-10_Classification_MobileNetV2_0.35_Rep_32/pretrain.pth"
   ]
  },
  {
   "cell_type": "markdown",
   "metadata": {},
   "source": [
    "## 📦Export the model\n",
    "After training, you can export the model to the format for deployment. SSCMA supports exporting to ONNX, and TensorFlow Lite at present.\n",
    "You can also refer to the [documentation](https://sensecraftma.seeed.cc/tutorials/export/overview) for more details.\n",
    "\n",
    "```bash\n",
    "python3 tools/export.py \\\n",
    "    \"<CONFIG_FILE_PATH>\" \\\n",
    "    \"<CHECKPOINT_FILE_PATH>\" \n",
    "```"
   ]
  },
  {
   "cell_type": "code",
   "execution_count": null,
   "metadata": {},
   "outputs": [],
   "source": [
    "import os\n",
    "with open('CIFAR-10_Classification_MobileNetV2_0.35_Rep_32/last_checkpoint', 'r') as f:\n",
    "\tos.environ['CHECKPOINT_FILE_PATH'] = f.read()"
   ]
  },
  {
   "cell_type": "code",
   "execution_count": null,
   "metadata": {},
   "outputs": [],
   "source": [
    "!sscma.export configs/classification/mobnetv2_0.35_rep_1bx16_300e_cifar10.py $CHECKPOINT_FILE_PATH --cfg-options  \\\n",
    "    work_dir=CIFAR-10_Classification_MobileNetV2_0.35_Rep_32 \\\n",
    "    num_classes=10 \\\n",
    "    epochs=10  \\\n",
    "    height=32 \\\n",
    "    width=32 \\\n",
    "    load_from=CIFAR-10_Classification_MobileNetV2_0.35_Rep_32/pretrain.pth"
   ]
  },
  {
   "cell_type": "markdown",
   "metadata": {},
   "source": [
    "### 📝Evaluate the model\n",
    "After exporting the model, you can evaluate the model on the test dataset.\n",
    "You can also refer to the [documentation](https://sensecraftma.seeed.cc/tutorials/export/overview) for more details.\n",
    "\n",
    "\n",
    "```bash\n",
    "python3 tools/inference.py \\\n",
    "    \"<CONFIG_FILE_PATH>\" \\\n",
    "    \"<CHECKPOINT_FILE_PATH>\" \n",
    "```"
   ]
  },
  {
   "cell_type": "markdown",
   "metadata": {},
   "source": [
    "### Evaluate the PyTorch model"
   ]
  },
  {
   "cell_type": "code",
   "execution_count": null,
   "metadata": {},
   "outputs": [],
   "source": [
    "!sscma.inference configs/classification/mobnetv2_0.35_rep_1bx16_300e_cifar10.py ${CHECKPOINT_FILE_PATH%.*}.pth \\\n",
    "--cfg-options  \\\n",
    "    work_dir=CIFAR-10_Classification_MobileNetV2_0.35_Rep_32 \\\n",
    "    num_classes=10 \\\n",
    "    epochs=10  \\\n",
    "    height=32 \\\n",
    "    width=32 \\\n",
    "    load_from=CIFAR-10_Classification_MobileNetV2_0.35_Rep_32/pretrain.pth"
   ]
  },
  {
   "cell_type": "markdown",
   "metadata": {},
   "source": [
    "### Evaluate the ONNX model"
   ]
  },
  {
   "cell_type": "code",
   "execution_count": null,
   "metadata": {},
   "outputs": [],
   "source": [
    "!sscma.inference configs/classification/mobnetv2_0.35_rep_1bx16_300e_cifar10.py ${CHECKPOINT_FILE_PATH%.*}_float32.onnx \\\n",
    "--cfg-options  \\\n",
    "    work_dir=CIFAR-10_Classification_MobileNetV2_0.35_Rep_32 \\\n",
    "    num_classes=10 \\\n",
    "    epochs=10  \\\n",
    "    height=32 \\\n",
    "    width=32 \\\n",
    "    load_from=CIFAR-10_Classification_MobileNetV2_0.35_Rep_32/pretrain.pth"
   ]
  },
  {
   "cell_type": "markdown",
   "metadata": {},
   "source": [
    "### Evaluate the TFLite FLOAT32 model"
   ]
  },
  {
   "cell_type": "code",
   "execution_count": null,
   "metadata": {},
   "outputs": [],
   "source": [
    "!sscma.inference configs/classification/mobnetv2_0.35_rep_1bx16_300e_cifar10.py ${CHECKPOINT_FILE_PATH%.*}_float32.tflite \\\n",
    "--cfg-options  \\\n",
    "    work_dir=CIFAR-10_Classification_MobileNetV2_0.35_Rep_32 \\\n",
    "    num_classes=10 \\\n",
    "    epochs=10  \\\n",
    "    height=32 \\\n",
    "    width=32 \\\n",
    "    load_from=CIFAR-10_Classification_MobileNetV2_0.35_Rep_32/pretrain.pth"
   ]
  },
  {
   "cell_type": "markdown",
   "metadata": {},
   "source": [
    "### Evaluate the TFLite INT8 model"
   ]
  },
  {
   "cell_type": "code",
   "execution_count": null,
   "metadata": {},
   "outputs": [],
   "source": [
    "!sscma.inference configs/classification/mobnetv2_0.35_rep_1bx16_300e_cifar10.py ${CHECKPOINT_FILE_PATH%.*}_int8.tflite \\\n",
    "--cfg-options  \\\n",
    "    work_dir=CIFAR-10_Classification_MobileNetV2_0.35_Rep_32 \\\n",
    "    num_classes=10 \\\n",
    "    epochs=10  \\\n",
    "    height=32 \\\n",
    "    width=32 \\\n",
    "    load_from=CIFAR-10_Classification_MobileNetV2_0.35_Rep_32/pretrain.pth"
   ]
  },
  {
   "cell_type": "markdown",
   "metadata": {},
   "source": [
    "## 🤖 Deploy the model\n",
    "After model training, evaluation and export, you can deploy the model to your device. You can refer to [Documentation](https://sensecraftma.seeed.cc/deploy/overview) for more details."
   ]
  },
  {
   "cell_type": "code",
   "execution_count": null,
   "metadata": {},
   "outputs": [],
   "source": [
    "%ls -lh CIFAR-10_Classification_MobileNetV2_0.35_Rep_32/"
   ]
  },
  {
   "cell_type": "markdown",
   "metadata": {},
   "source": [
    "### Thanks for Trying Out SSCMA 🎉\n",
    "\n",
    "Congratulations, you have completed this tutorial. If you are interested in more application scenarios or our projects, please feel free to give [SSCMA](https://github.com/Seeed-Studio/ModelAssistant) a star ✨ on GitHub.\n",
    "\n",
    "If you have any questions about this tutorial, please also feel free to [submit an issue](https://github.com/Seeed-Studio/ModelAssistant/issues)."
   ]
  }
 ],
 "metadata": {
  "kernelspec": {
   "display_name": "edgelab",
   "language": "python",
   "name": "python3"
  },
  "language_info": {
   "codemirror_mode": {
    "name": "ipython",
    "version": 3
   },
   "file_extension": ".py",
   "mimetype": "text/x-python",
   "name": "python",
   "nbconvert_exporter": "python",
   "pygments_lexer": "ipython3",
   "version": "3.8.17"
  }
 },
 "nbformat": 4,
 "nbformat_minor": 2
}
