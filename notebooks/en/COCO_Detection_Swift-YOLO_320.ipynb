{
 "cells": [
  {
   "cell_type": "markdown",
   "metadata": {},
   "source": [
    "<div align=\"center\">\n",
    "  <h1>Welcom to SSCMA for Google Colab Training Example 🔥 </h1>\n",
    "  <a href=\"https://sensecraftma.seeed.cc/\" target=\"_blank\"><img width=\"20%\" src=\"https://files.seeedstudio.com/sscma/docs/images/SSCMA-Hero.png\"></a>\n",
    "</div>"
   ]
  },
  {
   "cell_type": "markdown",
   "metadata": {},
   "source": [
    "# COCO Detection - Swift-YOLO\n",
    "\n",
    "[![Open in Colab](https://colab.research.google.com/assets/colab-badge.svg)](https://colab.research.google.com/github/seeed-studio/sscma-model-zoo/blob/main/notebooks/en/COCO_Detection_Swift-YOLO_320.ipynb)\n",
    "\n",
    "**Version:** 1.0.0\n",
    "\n",
    "**Category:** Object Detection\n",
    "\n",
    "**Algorithm:** [Swift-YOLO](configs/yolov5/swift_yolo_shuff_1xb16_300e_coco.py)\n",
    "\n",
    "**Dataset:** [COCO2017](https://public.roboflow.com/object-detection/microsoft-coco-subset)\n",
    "\n",
    "**Class:** `person`\n",
    "\n",
    "![COCO Detection](https://files.seeedstudio.com/sscma/static/detection_coco.png)\n",
    "\n",
    "The model is a Swift-YOLO model trained on the COCO2017 dataset.\n",
    "\n"
   ]
  },
  {
   "cell_type": "markdown",
   "metadata": {},
   "source": [
    "{{model_info}}"
   ]
  },
  {
   "cell_type": "markdown",
   "metadata": {},
   "source": [
    "## ⚙️Prerequisites\n",
    "### Setup SSCMA\n",
    "Clone the [repository](https://github.com/Seeed-Studio/ModelAssistant) and install the dependencies."
   ]
  },
  {
   "cell_type": "code",
   "execution_count": null,
   "metadata": {},
   "outputs": [],
   "source": [
    "# Ethos-U-Vela need to be installed this way, or SSCMA does not work anymore...\n",
    "!git clone https://review.mlplatform.org/ml/ethos-u/ethos-u-vela.git\n",
    "%cd ethos-u-vela\n",
    "!pip install .\n",
    "%cd ..\n",
    "\n",
    "!git clone https://github.com/Seeed-Studio/ModelAssistant.git -b 2.0.0  #clone the repo\n",
    "%cd ModelAssistant\n",
    "!. ./scripts/setup_colab.sh"
   ]
  },
  {
   "cell_type": "markdown",
   "metadata": {},
   "source": [
    "%mkdir -p COCO_Detection_Swift-YOLO_320 \n",
    "!wget -c https://files.seeedstudio.com/sscma/model_zoo/detection/coco/swift_yolo_shuffle_coco_320_float32_sha1_a5927bd6a6c6569d27edb98da946a8e75a8d816f.pth -O COCO_Detection_Swift-YOLO_320/pretrain.pth"
   ]
  },
  {
   "cell_type": "code",
   "execution_count": null,
   "metadata": {},
   "outputs": [],
   "source": [
    "{{download_pretrained_model}}"
   ]
  },
  {
   "cell_type": "markdown",
   "metadata": {},
   "source": [
    "%mkdir -p COCO_Detection_Swift-YOLO_320/dataset \n",
    "!wget -c https://public.roboflow.com/ds/saZ2K9LYJf?key=FKkHrP6bjs -O COCO_Detection_Swift-YOLO_320/dataset.zip \n",
    "!unzip -q COCO_Detection_Swift-YOLO_320/dataset.zip -d COCO_Detection_Swift-YOLO_320/dataset"
   ]
  },
  {
   "cell_type": "code",
   "execution_count": null,
   "metadata": {},
   "outputs": [],
   "source": [
    "{{download_dataset}}"
   ]
  },
  {
   "cell_type": "markdown",
   "metadata": {},
   "source": [
    "!sscma.train configs/yolov5/swift_yolo_shuff_1xb16_300e_coco.py \\\n",
    "--cfg-options  \\\n",
    "    work_dir=COCO_Detection_Swift-YOLO_320 \\\n",
    "    num_classes=1 \\\n",
    "    epochs=10  \\\n",
    "    height=320 \\\n",
    "    width=320 \\\n",
    "    data_root=COCO_Detection_Swift-YOLO_320/dataset/ \\\n",
    "    load_from=COCO_Detection_Swift-YOLO_320/pretrain.pth"
   ]
  },
  {
   "cell_type": "code",
   "execution_count": null,
   "metadata": {},
   "outputs": [],
   "source": [
    "{{train_model}}"
   ]
  },
  {
   "cell_type": "markdown",
   "metadata": {},
   "source": [
    "import os\n",
    "with open('COCO_Detection_Swift-YOLO_320/last_checkpoint', 'r') as f:\n",
    "\tos.environ['CHECKPOINT_FILE_PATH'] = f.read()"
   ]
  },
  {
   "cell_type": "code",
   "execution_count": null,
   "metadata": {},
   "outputs": [],
   "source": [
    "!sscma.export configs/yolov5/swift_yolo_shuff_1xb16_300e_coco.py $CHECKPOINT_FILE_PATH --cfg-options  \\\n",
    "    work_dir=COCO_Detection_Swift-YOLO_320 \\\n",
    "    num_classes=1 \\\n",
    "    epochs=10  \\\n",
    "    height=320 \\\n",
    "    width=320 \\\n",
    "    data_root=COCO_Detection_Swift-YOLO_320/dataset/ \\\n",
    "    load_from=COCO_Detection_Swift-YOLO_320/pretrain.pth"
   ]
  },
  {
   "cell_type": "code",
   "execution_count": null,
   "metadata": {},
   "outputs": [],
   "source": [
    "{{export_model}}"
   ]
  },
  {
   "cell_type": "markdown",
   "metadata": {},
   "source": [
    "### 📝Evaluate the model\n",
    "After exporting the model, you can evaluate the model on the test dataset.\n",
    "You can also refer to the [documentation](https://sensecraftma.seeed.cc/tutorials/export/overview) for more details.\n",
    "\n",
    "\n",
    "```bash\n",
    "python3 tools/inference.py \\\n",
    "    \"<CONFIG_FILE_PATH>\" \\\n",
    "    \"<CHECKPOINT_FILE_PATH>\" \n",
    "```"
   ]
  },
  {
   "cell_type": "markdown",
   "metadata": {},
   "source": [
    "!sscma.inference configs/yolov5/swift_yolo_shuff_1xb16_300e_coco.py ${CHECKPOINT_FILE_PATH%.*}.pth \\\n",
    "--cfg-options  \\\n",
    "    work_dir=COCO_Detection_Swift-YOLO_320 \\\n",
    "    num_classes=1 \\\n",
    "    epochs=10  \\\n",
    "    height=320 \\\n",
    "    width=320 \\\n",
    "    data_root=COCO_Detection_Swift-YOLO_320/dataset/ \\\n",
    "    load_from=COCO_Detection_Swift-YOLO_320/pretrain.pth"
   ]
  },
  {
   "cell_type": "code",
   "execution_count": null,
   "metadata": {},
   "outputs": [],
   "source": [
    "{{eval_model_pth}}"
   ]
  },
  {
   "cell_type": "markdown",
   "metadata": {},
   "source": [
    "!sscma.inference configs/yolov5/swift_yolo_shuff_1xb16_300e_coco.py ${CHECKPOINT_FILE_PATH%.*}_float32.onnx \\\n",
    "--cfg-options  \\\n",
    "    work_dir=COCO_Detection_Swift-YOLO_320 \\\n",
    "    num_classes=1 \\\n",
    "    epochs=10  \\\n",
    "    height=320 \\\n",
    "    width=320 \\\n",
    "    data_root=COCO_Detection_Swift-YOLO_320/dataset/ \\\n",
    "    load_from=COCO_Detection_Swift-YOLO_320/pretrain.pth"
   ]
  },
  {
   "cell_type": "code",
   "execution_count": null,
   "metadata": {},
   "outputs": [],
   "source": [
    "{{eval_model_onnx}}"
   ]
  },
  {
   "cell_type": "markdown",
   "metadata": {},
   "source": [
    "!sscma.inference configs/yolov5/swift_yolo_shuff_1xb16_300e_coco.py ${CHECKPOINT_FILE_PATH%.*}_float32.tflite \\\n",
    "--cfg-options  \\\n",
    "    work_dir=COCO_Detection_Swift-YOLO_320 \\\n",
    "    num_classes=1 \\\n",
    "    epochs=10  \\\n",
    "    height=320 \\\n",
    "    width=320 \\\n",
    "    data_root=COCO_Detection_Swift-YOLO_320/dataset/ \\\n",
    "    load_from=COCO_Detection_Swift-YOLO_320/pretrain.pth"
   ]
  },
  {
   "cell_type": "code",
   "execution_count": null,
   "metadata": {},
   "outputs": [],
   "source": [
    "{{eval_model_tflite_flot32}}"
   ]
  },
  {
   "cell_type": "markdown",
   "metadata": {},
   "source": [
    "!sscma.inference configs/yolov5/swift_yolo_shuff_1xb16_300e_coco.py ${CHECKPOINT_FILE_PATH%.*}_int8.tflite \\\n",
    "--cfg-options  \\\n",
    "    work_dir=COCO_Detection_Swift-YOLO_320 \\\n",
    "    num_classes=1 \\\n",
    "    epochs=10  \\\n",
    "    height=320 \\\n",
    "    width=320 \\\n",
    "    data_root=COCO_Detection_Swift-YOLO_320/dataset/ \\\n",
    "    load_from=COCO_Detection_Swift-YOLO_320/pretrain.pth"
   ]
  },
  {
   "cell_type": "code",
   "execution_count": null,
   "metadata": {},
   "outputs": [],
   "source": [
    "{{eval_model_tflite_int8}}"
   ]
  },
  {
   "cell_type": "markdown",
   "metadata": {},
   "source": [
    "%ls -lh COCO_Detection_Swift-YOLO_320/"
   ]
  },
  {
   "cell_type": "code",
   "execution_count": null,
   "metadata": {},
   "outputs": [],
   "source": [
    "{{show_result}}"
   ]
  },
  {
   "cell_type": "markdown",
   "metadata": {},
   "source": [
    "### Thanks for Trying Out SSCMA 🎉\n",
    "\n",
    "Congratulations, you have completed this tutorial. If you are interested in more application scenarios or our projects, please feel free to give [SSCMA](https://github.com/Seeed-Studio/ModelAssistant) a star ✨ on GitHub.\n",
    "\n",
    "If you have any questions about this tutorial, please also feel free to [submit an issue](https://github.com/Seeed-Studio/ModelAssistant/issues)."
   ]
  }
 ],
 "metadata": {
  "kernelspec": {
   "display_name": "edgelab",
   "language": "python",
   "name": "python3"
  },
  "language_info": {
   "codemirror_mode": {
    "name": "ipython",
    "version": 3
   },
   "file_extension": ".py",
   "mimetype": "text/x-python",
   "name": "python",
   "nbconvert_exporter": "python",
   "pygments_lexer": "ipython3",
   "version": "3.8.17"
  }
 },
 "nbformat": 4,
 "nbformat_minor": 2
}
