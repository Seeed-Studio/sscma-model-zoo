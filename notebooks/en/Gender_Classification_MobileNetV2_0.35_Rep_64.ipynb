{
 "cells": [
  {
   "cell_type": "markdown",
   "metadata": {},
   "source": [
    "<div align=\"center\">\n",
    "  <h1>Welcom to SSCMA for Google Colab Training Example 🔥 </h1>\n",
    "  <a href=\"https://sensecraftma.seeed.cc/\" target=\"_blank\"><img width=\"20%\" src=\"https://files.seeedstudio.com/sscma/docs/images/SSCMA-Hero.png\"></a>\n",
    "</div>"
   ]
  },
  {
   "cell_type": "markdown",
   "metadata": {},
   "source": [
    "# Gender Classification - MobileNetV2 0.35 Rep\n",
    "\n",
    "[![Open in Colab](https://colab.research.google.com/assets/colab-badge.svg)](https://colab.research.google.com/github/seeed-studio/sscma-model-zoo/blob/main/notebooks/en/Gender_Classification_MobileNetV2_0.35_Rep_64.ipynb)\n",
    "\n",
    "**Version:** 1.0.0\n",
    "\n",
    "**Category:** Image Classification\n",
    "\n",
    "**Algorithm:** [MobileNetV2 0.35 Rep](configs/classification/mobnetv2_0.35_rep_1bx16_300e_custom.py)\n",
    "\n",
    "**Dataset:** [Gender](https://universe.roboflow.com/seeed-studio-e2fso/gender-8vbxd)\n",
    "\n",
    "**Class:** `female`, `male`\n",
    "\n",
    "![Gender Classification](https://files.seeedstudio.com/sscma/static/gender_cls.png)\n",
    "\n",
    "The model is a vision model designed for Gender classification. It utilizes the [SSCMA](https://github.com/Seeed-Studio/ModelAssistant) training and employs the MobileNetV2 (0.35) Rep algorithm.\n",
    "\n"
   ]
  },
  {
   "cell_type": "markdown",
   "metadata": {},
   "source": [
    "{{model_info}}"
   ]
  },
  {
   "cell_type": "markdown",
   "metadata": {},
   "source": [
    "## ⚙️Prerequisites\n",
    "### Setup SSCMA\n",
    "Clone the [repository](https://github.com/Seeed-Studio/ModelAssistant) and install the dependencies."
   ]
  },
  {
   "cell_type": "code",
   "execution_count": null,
   "metadata": {},
   "outputs": [],
   "source": [
    "# Ethos-U-Vela need to be installed this way, or SSCMA does not work anymore...\n",
    "!git clone https://review.mlplatform.org/ml/ethos-u/ethos-u-vela.git\n",
    "%cd ethos-u-vela\n",
    "!pip install .\n",
    "%cd ..\n",
    "\n",
    "!git clone https://github.com/Seeed-Studio/ModelAssistant.git -b 2.0.0  #clone the repo\n",
    "%cd ModelAssistant\n",
    "!. ./scripts/setup_colab.sh"
   ]
  },
  {
   "cell_type": "markdown",
   "metadata": {},
   "source": [
    "%mkdir -p Gender_Classification_MobileNetV2_0.35_Rep_64 \n",
    "!wget -c https://files.seeedstudio.com/sscma/model_zoo/classification/gender/mbv2_0.35_rep_gender_sha1_62336a001f0cd58d2ac8ed5a6823b9ac7374f276.pth -O Gender_Classification_MobileNetV2_0.35_Rep_64/pretrain.pth"
   ]
  },
  {
   "cell_type": "code",
   "execution_count": null,
   "metadata": {},
   "outputs": [],
   "source": [
    "{{download_pretrained_model}}"
   ]
  },
  {
   "cell_type": "markdown",
   "metadata": {},
   "source": [
    "%mkdir -p Gender_Classification_MobileNetV2_0.35_Rep_64/dataset \n",
    "!wget -c https://universe.roboflow.com/ds/CnPDloVfHN?key=BGRNmtbN5T -O Gender_Classification_MobileNetV2_0.35_Rep_64/dataset.zip \n",
    "!unzip -q Gender_Classification_MobileNetV2_0.35_Rep_64/dataset.zip -d Gender_Classification_MobileNetV2_0.35_Rep_64/dataset"
   ]
  },
  {
   "cell_type": "code",
   "execution_count": null,
   "metadata": {},
   "outputs": [],
   "source": [
    "{{download_dataset}}"
   ]
  },
  {
   "cell_type": "markdown",
   "metadata": {},
   "source": [
    "!sscma.train configs/classification/mobnetv2_0.35_rep_1bx16_300e_custom.py \\\n",
    "--cfg-options  \\\n",
    "    work_dir=Gender_Classification_MobileNetV2_0.35_Rep_64 \\\n",
    "    num_classes=2 \\\n",
    "    epochs=10  \\\n",
    "    height=64 \\\n",
    "    width=64 \\\n",
    "    data_root=Gender_Classification_MobileNetV2_0.35_Rep_64/dataset/ \\\n",
    "    load_from=Gender_Classification_MobileNetV2_0.35_Rep_64/pretrain.pth"
   ]
  },
  {
   "cell_type": "code",
   "execution_count": null,
   "metadata": {},
   "outputs": [],
   "source": [
    "{{train_model}}"
   ]
  },
  {
   "cell_type": "markdown",
   "metadata": {},
   "source": [
    "import os\n",
    "with open('Gender_Classification_MobileNetV2_0.35_Rep_64/last_checkpoint', 'r') as f:\n",
    "\tos.environ['CHECKPOINT_FILE_PATH'] = f.read()"
   ]
  },
  {
   "cell_type": "code",
   "execution_count": null,
   "metadata": {},
   "outputs": [],
   "source": [
    "!sscma.export configs/classification/mobnetv2_0.35_rep_1bx16_300e_custom.py $CHECKPOINT_FILE_PATH --cfg-options  \\\n",
    "    work_dir=Gender_Classification_MobileNetV2_0.35_Rep_64 \\\n",
    "    num_classes=2 \\\n",
    "    epochs=10  \\\n",
    "    height=64 \\\n",
    "    width=64 \\\n",
    "    data_root=Gender_Classification_MobileNetV2_0.35_Rep_64/dataset/ \\\n",
    "    load_from=Gender_Classification_MobileNetV2_0.35_Rep_64/pretrain.pth"
   ]
  },
  {
   "cell_type": "code",
   "execution_count": null,
   "metadata": {},
   "outputs": [],
   "source": [
    "{{export_model}}"
   ]
  },
  {
   "cell_type": "markdown",
   "metadata": {},
   "source": [
    "### 📝Evaluate the model\n",
    "After exporting the model, you can evaluate the model on the test dataset.\n",
    "You can also refer to the [documentation](https://sensecraftma.seeed.cc/tutorials/export/overview) for more details.\n",
    "\n",
    "\n",
    "```bash\n",
    "python3 tools/inference.py \\\n",
    "    \"<CONFIG_FILE_PATH>\" \\\n",
    "    \"<CHECKPOINT_FILE_PATH>\" \n",
    "```"
   ]
  },
  {
   "cell_type": "markdown",
   "metadata": {},
   "source": [
    "!sscma.inference configs/classification/mobnetv2_0.35_rep_1bx16_300e_custom.py ${CHECKPOINT_FILE_PATH%.*}.pth \\\n",
    "--cfg-options  \\\n",
    "    work_dir=Gender_Classification_MobileNetV2_0.35_Rep_64 \\\n",
    "    num_classes=2 \\\n",
    "    epochs=10  \\\n",
    "    height=64 \\\n",
    "    width=64 \\\n",
    "    data_root=Gender_Classification_MobileNetV2_0.35_Rep_64/dataset/ \\\n",
    "    load_from=Gender_Classification_MobileNetV2_0.35_Rep_64/pretrain.pth"
   ]
  },
  {
   "cell_type": "code",
   "execution_count": null,
   "metadata": {},
   "outputs": [],
   "source": [
    "{{eval_model_pth}}"
   ]
  },
  {
   "cell_type": "markdown",
   "metadata": {},
   "source": [
    "!sscma.inference configs/classification/mobnetv2_0.35_rep_1bx16_300e_custom.py ${CHECKPOINT_FILE_PATH%.*}_float32.onnx \\\n",
    "--cfg-options  \\\n",
    "    work_dir=Gender_Classification_MobileNetV2_0.35_Rep_64 \\\n",
    "    num_classes=2 \\\n",
    "    epochs=10  \\\n",
    "    height=64 \\\n",
    "    width=64 \\\n",
    "    data_root=Gender_Classification_MobileNetV2_0.35_Rep_64/dataset/ \\\n",
    "    load_from=Gender_Classification_MobileNetV2_0.35_Rep_64/pretrain.pth"
   ]
  },
  {
   "cell_type": "code",
   "execution_count": null,
   "metadata": {},
   "outputs": [],
   "source": [
    "{{eval_model_onnx}}"
   ]
  },
  {
   "cell_type": "markdown",
   "metadata": {},
   "source": [
    "!sscma.inference configs/classification/mobnetv2_0.35_rep_1bx16_300e_custom.py ${CHECKPOINT_FILE_PATH%.*}_float32.tflite \\\n",
    "--cfg-options  \\\n",
    "    work_dir=Gender_Classification_MobileNetV2_0.35_Rep_64 \\\n",
    "    num_classes=2 \\\n",
    "    epochs=10  \\\n",
    "    height=64 \\\n",
    "    width=64 \\\n",
    "    data_root=Gender_Classification_MobileNetV2_0.35_Rep_64/dataset/ \\\n",
    "    load_from=Gender_Classification_MobileNetV2_0.35_Rep_64/pretrain.pth"
   ]
  },
  {
   "cell_type": "code",
   "execution_count": null,
   "metadata": {},
   "outputs": [],
   "source": [
    "{{eval_model_tflite_flot32}}"
   ]
  },
  {
   "cell_type": "markdown",
   "metadata": {},
   "source": [
    "!sscma.inference configs/classification/mobnetv2_0.35_rep_1bx16_300e_custom.py ${CHECKPOINT_FILE_PATH%.*}_int8.tflite \\\n",
    "--cfg-options  \\\n",
    "    work_dir=Gender_Classification_MobileNetV2_0.35_Rep_64 \\\n",
    "    num_classes=2 \\\n",
    "    epochs=10  \\\n",
    "    height=64 \\\n",
    "    width=64 \\\n",
    "    data_root=Gender_Classification_MobileNetV2_0.35_Rep_64/dataset/ \\\n",
    "    load_from=Gender_Classification_MobileNetV2_0.35_Rep_64/pretrain.pth"
   ]
  },
  {
   "cell_type": "code",
   "execution_count": null,
   "metadata": {},
   "outputs": [],
   "source": [
    "{{eval_model_tflite_int8}}"
   ]
  },
  {
   "cell_type": "markdown",
   "metadata": {},
   "source": [
    "%ls -lh Gender_Classification_MobileNetV2_0.35_Rep_64/"
   ]
  },
  {
   "cell_type": "code",
   "execution_count": null,
   "metadata": {},
   "outputs": [],
   "source": [
    "{{show_result}}"
   ]
  },
  {
   "cell_type": "markdown",
   "metadata": {},
   "source": [
    "### Thanks for Trying Out SSCMA 🎉\n",
    "\n",
    "Congratulations, you have completed this tutorial. If you are interested in more application scenarios or our projects, please feel free to give [SSCMA](https://github.com/Seeed-Studio/ModelAssistant) a star ✨ on GitHub.\n",
    "\n",
    "If you have any questions about this tutorial, please also feel free to [submit an issue](https://github.com/Seeed-Studio/ModelAssistant/issues)."
   ]
  }
 ],
 "metadata": {
  "kernelspec": {
   "display_name": "edgelab",
   "language": "python",
   "name": "python3"
  },
  "language_info": {
   "codemirror_mode": {
    "name": "ipython",
    "version": 3
   },
   "file_extension": ".py",
   "mimetype": "text/x-python",
   "name": "python",
   "nbconvert_exporter": "python",
   "pygments_lexer": "ipython3",
   "version": "3.8.17"
  }
 },
 "nbformat": 4,
 "nbformat_minor": 2
}
