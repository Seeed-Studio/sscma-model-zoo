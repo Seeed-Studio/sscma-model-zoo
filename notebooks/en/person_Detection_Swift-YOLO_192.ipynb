{
 "cells": [
  {
   "cell_type": "markdown",
   "metadata": {},
   "source": [
    "<div align=\"center\">\n",
    "  <h1>Welcom to SSCMA for Google Colab Training Example 🔥 </h1>\n",
    "  <a href=\"https://sensecraftma.seeed.cc/\" target=\"_blank\"><img width=\"20%\" src=\"https://files.seeedstudio.com/sscma/docs/images/SSCMA-Hero.png\"></a>\n",
    "</div>"
   ]
  },
  {
   "cell_type": "markdown",
   "metadata": {},
   "source": [
    "## ⚠️ Important Notice\n",
    "\n",
    "Before you begin, please ensure:\n",
    "\n",
    "1. **Enable GPU Acceleration**: Click `Runtime` → `Change runtime type` → Select `GPU` in `Hardware accelerator`\n",
    "2. **Colab Version Requirement**: **You MUST use Colab version 2025.07** for compatibility. Other versions may cause unexpected errors.\n",
    "\n",
    "If you encounter version-related issues, you can run the following commands in the first code cell to check your environment:\n",
    "\n",
    "```python\n",
    "# Check if GPU is available\n",
    "!nvidia-smi\n",
    "\n",
    "# Check Python version\n",
    "!python --version\n",
    "```"
   ]
  },
  {
   "cell_type": "markdown",
   "metadata": {},
   "source": [
    "# person Detection - Swift-YOLO\n",
    "\n",
    "[![Open in Colab](https://colab.research.google.com/assets/colab-badge.svg)](https://colab.research.google.com/github/seeed-studio/sscma-model-zoo/blob/main/notebooks/en/person_Detection_Swift-YOLO_192.ipynb)\n",
    "\n",
    "**Version:** 1.0.0\n",
    "\n",
    "**Category:** Object Detection\n",
    "\n",
    "**Algorithm:** [Swift-YOLO](configs/swift_yolo/swift_yolo_tiny_1xb16_300e_coco.py)\n",
    "\n",
    "**Dataset:** [Person](https://universe.roboflow.com/hanzhou-7mktt/ssperson/dataset/7#)\n",
    "\n",
    "**Class:** `person`\n",
    "\n",
    "![person Detection](https://files.seeedstudio.com/sscma/static/detection_person.png)\n",
    "\n",
    "The model is a Swift-YOLO model trained on the person detection dataset.\n",
    "\n"
   ]
  },
  {
   "cell_type": "markdown",
   "metadata": {},
   "source": [
    "## ⚙️Prerequisites\n",
    "### Setup SSCMA\n",
    "Clone the [repository](https://github.com/Seeed-Studio/ModelAssistant) and install the dependencies."
   ]
  },
  {
   "cell_type": "code",
   "execution_count": null,
   "metadata": {},
   "outputs": [],
   "source": [
    "# Ethos-U-Vela need to be installed this way, or SSCMA does not work anymore...\n",
    "!git clone https://review.mlplatform.org/ml/ethos-u/ethos-u-vela.git\n",
    "%cd ethos-u-vela\n",
    "!pip install .\n",
    "%cd ..\n",
    "\n",
    "!git clone https://github.com/Seeed-Studio/ModelAssistant.git -b 2.0.0  #clone the repo\n",
    "%cd ModelAssistant\n",
    "!. ./scripts/setup_colab.sh"
   ]
  },
  {
   "cell_type": "markdown",
   "metadata": {},
   "source": [
    "### Download the pretrain model weights file"
   ]
  },
  {
   "cell_type": "code",
   "execution_count": null,
   "metadata": {},
   "outputs": [],
   "source": [
    "%mkdir -p person_Detection_Swift-YOLO_192 \n",
    "!wget -c https://files.seeedstudio.com/sscma/model_zoo/detection/person/person_detection.pth -O person_Detection_Swift-YOLO_192/pretrain.pth"
   ]
  },
  {
   "cell_type": "markdown",
   "metadata": {},
   "source": [
    "### Download the dataset"
   ]
  },
  {
   "cell_type": "code",
   "execution_count": null,
   "metadata": {},
   "outputs": [],
   "source": [
    "%mkdir -p person_Detection_Swift-YOLO_192/dataset \n",
    "!wget -c https://universe.roboflow.com/ds/RFhocq9L2g?key=Ttmf6Fgq19 -O person_Detection_Swift-YOLO_192/dataset.zip \n",
    "!unzip -q person_Detection_Swift-YOLO_192/dataset.zip -d person_Detection_Swift-YOLO_192/dataset"
   ]
  },
  {
   "cell_type": "markdown",
   "metadata": {},
   "source": [
    "## 🚀Train a model with SSCMA\n",
    "All the training parameters are in the `config.py` file, you can change the parameters to train your own model.\n",
    "\n",
    "Below are explanations of some common parameters. You can also refer to the [documentation](https://sensecraftma.seeed.cc/tutorials/config) for more details.\n",
    "- `data_root` - the datasets path. \n",
    "- `epochs`- the train epochs. **we use 10 epochs as an example**.\n",
    "- `batch_size` - the batch size. \n",
    "- `height` - the image height.\n",
    "- `width` - the image width.\n",
    "- `load_from` - the pretrained model path.\n",
    "- `num_classes` - the number of classes.\n",
    "\n",
    "You can overwrite the parameters in the `config.py` file by using the `--cfg-options` argument. \n",
    "```bash\n",
    "# Example\n",
    "sscma.train config.py --cfg-options data_root=./datasets/test_dataset epochs=10\n",
    "```"
   ]
  },
  {
   "cell_type": "code",
   "execution_count": null,
   "metadata": {},
   "outputs": [],
   "source": [
    "!sscma.train configs/swift_yolo/swift_yolo_tiny_1xb16_300e_coco.py \\\n",
    "--cfg-options  \\\n",
    "    work_dir=person_Detection_Swift-YOLO_192 \\\n",
    "    num_classes=1 \\\n",
    "    epochs=10  \\\n",
    "    height=192 \\\n",
    "    width=192 \\\n",
    "    data_root=person_Detection_Swift-YOLO_192/dataset/ \\\n",
    "    load_from=person_Detection_Swift-YOLO_192/pretrain.pth"
   ]
  },
  {
   "cell_type": "markdown",
   "metadata": {},
   "source": [
    "## 📦Export the model\n",
    "After training, you can export the model to the format for deployment. SSCMA supports exporting to ONNX, and TensorFlow Lite at present.\n",
    "You can also refer to the [documentation](https://sensecraftma.seeed.cc/tutorials/export/overview) for more details.\n",
    "\n",
    "```bash\n",
    "python3 tools/export.py \\\n",
    "    \"<CONFIG_FILE_PATH>\" \\\n",
    "    \"<CHECKPOINT_FILE_PATH>\" \n",
    "```"
   ]
  },
  {
   "cell_type": "code",
   "execution_count": null,
   "metadata": {},
   "outputs": [],
   "source": [
    "import os\n",
    "with open('person_Detection_Swift-YOLO_192/last_checkpoint', 'r') as f:\n",
    "\tos.environ['CHECKPOINT_FILE_PATH'] = f.read()"
   ]
  },
  {
   "cell_type": "code",
   "execution_count": null,
   "metadata": {},
   "outputs": [],
   "source": [
    "!sscma.export configs/swift_yolo/swift_yolo_tiny_1xb16_300e_coco.py $CHECKPOINT_FILE_PATH --cfg-options  \\\n",
    "    work_dir=person_Detection_Swift-YOLO_192 \\\n",
    "    num_classes=1 \\\n",
    "    epochs=10  \\\n",
    "    height=192 \\\n",
    "    width=192 \\\n",
    "    data_root=person_Detection_Swift-YOLO_192/dataset/ \\\n",
    "    load_from=person_Detection_Swift-YOLO_192/pretrain.pth"
   ]
  },
  {
   "cell_type": "markdown",
   "metadata": {},
   "source": [
    "### 📝Evaluate the model\n",
    "After exporting the model, you can evaluate the model on the test dataset.\n",
    "You can also refer to the [documentation](https://sensecraftma.seeed.cc/tutorials/export/overview) for more details.\n",
    "\n",
    "\n",
    "```bash\n",
    "python3 tools/inference.py \\\n",
    "    \"<CONFIG_FILE_PATH>\" \\\n",
    "    \"<CHECKPOINT_FILE_PATH>\" \n",
    "```"
   ]
  },
  {
   "cell_type": "markdown",
   "metadata": {},
   "source": [
    "### Evaluate the PyTorch model"
   ]
  },
  {
   "cell_type": "code",
   "execution_count": null,
   "metadata": {},
   "outputs": [],
   "source": [
    "!sscma.inference configs/swift_yolo/swift_yolo_tiny_1xb16_300e_coco.py ${CHECKPOINT_FILE_PATH%.*}.pth \\\n",
    "--cfg-options  \\\n",
    "    work_dir=person_Detection_Swift-YOLO_192 \\\n",
    "    num_classes=1 \\\n",
    "    epochs=10  \\\n",
    "    height=192 \\\n",
    "    width=192 \\\n",
    "    data_root=person_Detection_Swift-YOLO_192/dataset/ \\\n",
    "    load_from=person_Detection_Swift-YOLO_192/pretrain.pth"
   ]
  },
  {
   "cell_type": "markdown",
   "metadata": {},
   "source": [
    "### Evaluate the ONNX model"
   ]
  },
  {
   "cell_type": "code",
   "execution_count": null,
   "metadata": {},
   "outputs": [],
   "source": [
    "!sscma.inference configs/swift_yolo/swift_yolo_tiny_1xb16_300e_coco.py ${CHECKPOINT_FILE_PATH%.*}_float32.onnx \\\n",
    "--cfg-options  \\\n",
    "    work_dir=person_Detection_Swift-YOLO_192 \\\n",
    "    num_classes=1 \\\n",
    "    epochs=10  \\\n",
    "    height=192 \\\n",
    "    width=192 \\\n",
    "    data_root=person_Detection_Swift-YOLO_192/dataset/ \\\n",
    "    load_from=person_Detection_Swift-YOLO_192/pretrain.pth"
   ]
  },
  {
   "cell_type": "markdown",
   "metadata": {},
   "source": [
    "### Evaluate the TFLite FLOAT32 model"
   ]
  },
  {
   "cell_type": "code",
   "execution_count": null,
   "metadata": {},
   "outputs": [],
   "source": [
    "!sscma.inference configs/swift_yolo/swift_yolo_tiny_1xb16_300e_coco.py ${CHECKPOINT_FILE_PATH%.*}_float32.tflite \\\n",
    "--cfg-options  \\\n",
    "    work_dir=person_Detection_Swift-YOLO_192 \\\n",
    "    num_classes=1 \\\n",
    "    epochs=10  \\\n",
    "    height=192 \\\n",
    "    width=192 \\\n",
    "    data_root=person_Detection_Swift-YOLO_192/dataset/ \\\n",
    "    load_from=person_Detection_Swift-YOLO_192/pretrain.pth"
   ]
  },
  {
   "cell_type": "markdown",
   "metadata": {},
   "source": [
    "### Evaluate the TFLite INT8 model"
   ]
  },
  {
   "cell_type": "code",
   "execution_count": null,
   "metadata": {},
   "outputs": [],
   "source": [
    "!sscma.inference configs/swift_yolo/swift_yolo_tiny_1xb16_300e_coco.py ${CHECKPOINT_FILE_PATH%.*}_int8.tflite \\\n",
    "--cfg-options  \\\n",
    "    work_dir=person_Detection_Swift-YOLO_192 \\\n",
    "    num_classes=1 \\\n",
    "    epochs=10  \\\n",
    "    height=192 \\\n",
    "    width=192 \\\n",
    "    data_root=person_Detection_Swift-YOLO_192/dataset/ \\\n",
    "    load_from=person_Detection_Swift-YOLO_192/pretrain.pth"
   ]
  },
  {
   "cell_type": "markdown",
   "metadata": {},
   "source": [
    "## 🤖 Deploy the model\n",
    "After model training, evaluation and export, you can deploy the model to your device. You can refer to [Documentation](https://sensecraftma.seeed.cc/deploy/overview) for more details."
   ]
  },
  {
   "cell_type": "code",
   "execution_count": null,
   "metadata": {},
   "outputs": [],
   "source": [
    "%ls -lh person_Detection_Swift-YOLO_192/"
   ]
  },
  {
   "cell_type": "markdown",
   "metadata": {},
   "source": [
    "### Thanks for Trying Out SSCMA 🎉\n",
    "\n",
    "Congratulations, you have completed this tutorial. If you are interested in more application scenarios or our projects, please feel free to give [SSCMA](https://github.com/Seeed-Studio/ModelAssistant) a star ✨ on GitHub.\n",
    "\n",
    "If you have any questions about this tutorial, please also feel free to [submit an issue](https://github.com/Seeed-Studio/ModelAssistant/issues)."
   ]
  }
 ],
 "metadata": {
  "kernelspec": {
   "display_name": "edgelab",
   "language": "python",
   "name": "python3"
  },
  "language_info": {
   "codemirror_mode": {
    "name": "ipython",
    "version": 3
   },
   "file_extension": ".py",
   "mimetype": "text/x-python",
   "name": "python",
   "nbconvert_exporter": "python",
   "pygments_lexer": "ipython3",
   "version": "3.8.17"
  }
 },
 "nbformat": 4,
 "nbformat_minor": 2
}
